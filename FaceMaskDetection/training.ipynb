{
 "cells": [
  {
   "cell_type": "code",
   "execution_count": 1,
   "metadata": {},
   "outputs": [],
   "source": [
    "import tensorflow as tf\n",
    "from tensorflow.keras.models import Sequential \n",
    "from tensorflow.keras.layers import Dense, Dropout, Activation, Flatten\n",
    "from tensorflow.keras.layers import Conv2D,MaxPooling2D\n",
    "from tensorflow.keras.callbacks import ModelCheckpoint\n",
    "import pickle\n",
    "import time\n",
    "import matplotlib.pyplot as plt\n",
    "import numpy as np\n",
    "from sklearn.model_selection import train_test_split"
   ]
  },
  {
   "cell_type": "code",
   "execution_count": 2,
   "metadata": {},
   "outputs": [],
   "source": [
    "data=np.load('data.npy')\n",
    "target=np.load('target.npy')"
   ]
  },
  {
   "cell_type": "code",
   "execution_count": 3,
   "metadata": {},
   "outputs": [],
   "source": [
    "model=Sequential()\n",
    "model.add(Conv2D(200,(3,3),input_shape=data.shape[1:]))\n",
    "model.add(Activation('relu'))\n",
    "model.add(MaxPooling2D(pool_size=(2,2)))\n",
    "\n",
    "model.add(Conv2D(6,(3,3)))\n",
    "model.add(Activation('relu'))\n",
    "model.add(MaxPooling2D(pool_size=(2,2)))\n",
    "\n",
    "model.add(Flatten())\n",
    "model.add(Dropout(0.5))\n",
    "model.add(Dense(50, activation='relu'))\n",
    "model.add(Dense(2, activation='softmax'))\n",
    "\n",
    "model.compile(optimizer='adam', loss='categorical_crossentropy', metrics=['accuracy']) "
   ]
  },
  {
   "cell_type": "code",
   "execution_count": 4,
   "metadata": {},
   "outputs": [],
   "source": [
    "train_data,test_data,train_target,test_target=train_test_split(data,target,test_size=0.1)"
   ]
  },
  {
   "cell_type": "code",
   "execution_count": 5,
   "metadata": {},
   "outputs": [
    {
     "name": "stdout",
     "output_type": "stream",
     "text": [
      "Epoch 1/20\n",
      "33/33 [==============================] - ETA: 0s - loss: 0.6968 - accuracy: 0.5212WARNING:tensorflow:From F:\\ProgramData\\Anaconda3\\lib\\site-packages\\tensorflow\\python\\ops\\resource_variable_ops.py:1817: calling BaseResourceVariable.__init__ (from tensorflow.python.ops.resource_variable_ops) with constraint is deprecated and will be removed in a future version.\n",
      "Instructions for updating:\n",
      "If using Keras pass *_constraint arguments to layers.\n",
      "INFO:tensorflow:Assets written to: model-001.model\\assets\n",
      "33/33 [==============================] - 43s 1s/step - loss: 0.6968 - accuracy: 0.5212 - val_loss: 0.6931 - val_accuracy: 0.4808\n",
      "Epoch 2/20\n",
      "33/33 [==============================] - ETA: 0s - loss: 0.6819 - accuracy: 0.5627INFO:tensorflow:Assets written to: model-002.model\\assets\n",
      "33/33 [==============================] - 49s 1s/step - loss: 0.6819 - accuracy: 0.5627 - val_loss: 0.6647 - val_accuracy: 0.6538\n",
      "Epoch 3/20\n",
      "33/33 [==============================] - ETA: 0s - loss: 0.5765 - accuracy: 0.6950INFO:tensorflow:Assets written to: model-003.model\\assets\n",
      "33/33 [==============================] - 45s 1s/step - loss: 0.5765 - accuracy: 0.6950 - val_loss: 0.4276 - val_accuracy: 0.8423\n",
      "Epoch 4/20\n",
      "33/33 [==============================] - ETA: 0s - loss: 0.4452 - accuracy: 0.8098INFO:tensorflow:Assets written to: model-004.model\\assets\n",
      "33/33 [==============================] - 48s 1s/step - loss: 0.4452 - accuracy: 0.8098 - val_loss: 0.3207 - val_accuracy: 0.8577\n",
      "Epoch 5/20\n",
      "33/33 [==============================] - ETA: 0s - loss: 0.3615 - accuracy: 0.8446INFO:tensorflow:Assets written to: model-005.model\\assets\n",
      "33/33 [==============================] - 43s 1s/step - loss: 0.3615 - accuracy: 0.8446 - val_loss: 0.3033 - val_accuracy: 0.8769\n",
      "Epoch 6/20\n",
      "33/33 [==============================] - 41s 1s/step - loss: 0.3237 - accuracy: 0.8697 - val_loss: 0.3621 - val_accuracy: 0.8615\n",
      "Epoch 7/20\n",
      "33/33 [==============================] - 41s 1s/step - loss: 0.2955 - accuracy: 0.8803 - val_loss: 0.3101 - val_accuracy: 0.8731\n",
      "Epoch 8/20\n",
      "33/33 [==============================] - ETA: 0s - loss: 0.2263 - accuracy: 0.9093INFO:tensorflow:Assets written to: model-008.model\\assets\n",
      "33/33 [==============================] - 42s 1s/step - loss: 0.2263 - accuracy: 0.9093 - val_loss: 0.2654 - val_accuracy: 0.8923\n",
      "Epoch 9/20\n",
      "33/33 [==============================] - ETA: 0s - loss: 0.1836 - accuracy: 0.9257INFO:tensorflow:Assets written to: model-009.model\\assets\n",
      "33/33 [==============================] - 42s 1s/step - loss: 0.1836 - accuracy: 0.9257 - val_loss: 0.1996 - val_accuracy: 0.9115\n",
      "Epoch 10/20\n",
      "33/33 [==============================] - ETA: 0s - loss: 0.1717 - accuracy: 0.9266INFO:tensorflow:Assets written to: model-010.model\\assets\n",
      "33/33 [==============================] - 42s 1s/step - loss: 0.1717 - accuracy: 0.9266 - val_loss: 0.1866 - val_accuracy: 0.9269\n",
      "Epoch 11/20\n",
      "33/33 [==============================] - 42s 1s/step - loss: 0.1404 - accuracy: 0.9508 - val_loss: 0.2022 - val_accuracy: 0.9308\n",
      "Epoch 12/20\n",
      "33/33 [==============================] - 41s 1s/step - loss: 0.1349 - accuracy: 0.9508 - val_loss: 0.1935 - val_accuracy: 0.9231\n",
      "Epoch 13/20\n",
      "33/33 [==============================] - 40s 1s/step - loss: 0.1261 - accuracy: 0.9498 - val_loss: 0.2057 - val_accuracy: 0.9308\n",
      "Epoch 14/20\n",
      "33/33 [==============================] - 40s 1s/step - loss: 0.0953 - accuracy: 0.9653 - val_loss: 0.2037 - val_accuracy: 0.9269\n",
      "Epoch 15/20\n",
      "33/33 [==============================] - 40s 1s/step - loss: 0.1212 - accuracy: 0.9575 - val_loss: 0.1910 - val_accuracy: 0.9385\n",
      "Epoch 16/20\n",
      "33/33 [==============================] - ETA: 0s - loss: 0.1096 - accuracy: 0.9672INFO:tensorflow:Assets written to: model-016.model\\assets\n",
      "33/33 [==============================] - 42s 1s/step - loss: 0.1096 - accuracy: 0.9672 - val_loss: 0.1764 - val_accuracy: 0.9423\n",
      "Epoch 17/20\n",
      "33/33 [==============================] - 42s 1s/step - loss: 0.1008 - accuracy: 0.9653 - val_loss: 0.1792 - val_accuracy: 0.9385\n",
      "Epoch 18/20\n",
      "33/33 [==============================] - 41s 1s/step - loss: 0.0778 - accuracy: 0.9730 - val_loss: 0.1859 - val_accuracy: 0.9385\n",
      "Epoch 19/20\n",
      "33/33 [==============================] - 41s 1s/step - loss: 0.0694 - accuracy: 0.9768 - val_loss: 0.1948 - val_accuracy: 0.9423\n",
      "Epoch 20/20\n",
      "33/33 [==============================] - 40s 1s/step - loss: 0.0488 - accuracy: 0.9817 - val_loss: 0.2386 - val_accuracy: 0.9192\n"
     ]
    }
   ],
   "source": [
    "checkpoint=ModelCheckpoint('model-{epoch:03d}.model',monitor='val_loss',verbose=0,save_best_only=True,mode='auto')\n",
    "hist=model.fit(train_data,train_target,epochs=20,callbacks=[checkpoint],validation_split=0.2)"
   ]
  },
  {
   "cell_type": "code",
   "execution_count": 9,
   "metadata": {},
   "outputs": [
    {
     "data": {
      "image/png": "[encoded data removed]",
      "text/plain": [
       "<Figure size 432x288 with 1 Axes>"
      ]
     },
     "metadata": {
      "needs_background": "light"
     },
     "output_type": "display_data"
    }
   ],
   "source": [
    "plt.plot(hist.history['loss'],'r',label='training loss')\n",
    "plt.plot(hist.history['val_loss'],'b',label='validation loss')\n",
    "plt.xlabel('# epochs')\n",
    "plt.ylabel('loss')\n",
    "plt.legend()\n",
    "plt.show()"
   ]
  },
  {
   "cell_type": "code",
   "execution_count": 11,
   "metadata": {},
   "outputs": [
    {
     "data": {
      "image/png": "[encoded data removed]",
      "text/plain": [
       "<Figure size 432x288 with 1 Axes>"
      ]
     },
     "metadata": {
      "needs_background": "light"
     },
     "output_type": "display_data"
    }
   ],
   "source": [
    "plt.plot(hist.history['accuracy'],'r',label='training accuracy')\n",
    "plt.plot(hist.history['val_accuracy'],'b',label='validation accuracy')\n",
    "plt.xlabel('# epochs')\n",
    "plt.ylabel('accuracy')\n",
    "plt.legend()\n",
    "plt.show()"
   ]
  },
  {
   "cell_type": "code",
   "execution_count": 12,
   "metadata": {},
   "outputs": [
    {
     "name": "stdout",
     "output_type": "stream",
     "text": [
      "5/5 [==============================] - 1s 209ms/step - loss: 0.1314 - accuracy: 0.9793\n",
      "[0.1314089000225067, 0.9793103337287903]\n"
     ]
    }
   ],
   "source": [
    "print(model.evaluate(test_data,test_target))"
   ]
  },
  {
   "cell_type": "code",
   "execution_count": null,
   "metadata": {},
   "outputs": [],
   "source": [
    "#model.save('64x3-CNN.model')"
   ]
  },
  {
   "cell_type": "code",
   "execution_count": null,
   "metadata": {},
   "outputs": [],
   "source": [
    "#scores=model.evaluate(images_test,class_test,verbose=0)\n",
    "#print(\"Accuracy: %.2f%%\"%(scores[1]*100))"
   ]
  },
  {
   "cell_type": "code",
   "execution_count": null,
   "metadata": {},
   "outputs": [],
   "source": [
    "#plt.scatter([i for i in range(len(x))],y)"
   ]
  },
  {
   "cell_type": "code",
   "execution_count": null,
   "metadata": {},
   "outputs": [],
   "source": [
    "#tensorboard --logdir=logs/"
   ]
  },
  {
   "cell_type": "code",
   "execution_count": null,
   "metadata": {},
   "outputs": [],
   "source": []
  }
 ],
 "metadata": {
  "kernelspec": {
   "display_name": "Python 3",
   "language": "python",
   "name": "python3"
  },
  "language_info": {
   "codemirror_mode": {
    "name": "ipython",
    "version": 3
   },
   "file_extension": ".py",
   "mimetype": "text/x-python",
   "name": "python",
   "nbconvert_exporter": "python",
   "pygments_lexer": "ipython3",
   "version": "3.7.6"
  }
 },
 "nbformat": 4,
 "nbformat_minor": 4
}
