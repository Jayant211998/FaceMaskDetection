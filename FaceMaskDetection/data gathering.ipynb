{
 "cells": [
  {
   "cell_type": "code",
   "execution_count": null,
   "metadata": {},
   "outputs": [],
   "source": [
    "#Script for downloading images using python\n",
    "from selenium import webdriver\n",
    "from selenium.webdriver.common.keys import Keys\n",
    "import time\n",
    "import urllib.request\n",
    "import os"
   ]
  },
  {
   "cell_type": "code",
   "execution_count": null,
   "metadata": {},
   "outputs": [],
   "source": [
    "def download_images(search_input):\n",
    "    PATH=\"C:\\Program Files (x86)\\chromedriver.exe\"\n",
    "    driver=webdriver.Chrome(PATH)\n",
    "    driver.get(\"https://www.google.com/imghp\")\n",
    "    search=driver.find_element_by_xpath(\"//input[@name='q']\")\n",
    "    search.send_keys(search_input,Keys.RETURN)\n",
    "    value = 0\n",
    "    for i in range(40):\n",
    "       driver.execute_script(\"scrollBy(\"+ str(value) +\",+3000);\")\n",
    "       value += 2000\n",
    "       #time.sleep(3)\n",
    "    elem1 = driver.find_element_by_id('yDmH0d')\n",
    "    sub = elem1.find_elements_by_tag_name(\"img\")\n",
    "    try:\n",
    "        os.mkdir(search_input)\n",
    "    except FileExistsError:\n",
    "        pass\n",
    "    count = 0\n",
    "\n",
    "    for i in sub:\n",
    "        src = i.get_attribute('src')\n",
    "        try:\n",
    "            if src != None:\n",
    "                src  = str(src)\n",
    "                print(\"downloaded\")\n",
    "                count+=1\n",
    "                urllib.request.urlretrieve(src, os.path.join(search_input,'image'+str(count+400)+'.jpg'))\n",
    "            else:\n",
    "                raise TypeError\n",
    "        except TypeError:\n",
    "            print('fail')\n",
    "    time.sleep(10)\n",
    "    driver.quit()\n",
    "while(True):\n",
    "    inp=input()\n",
    "    download_images(inp)\n",
    "    print(\"write q to quit and c to continue\")\n",
    "    if inp=='q':\n",
    "        break"
   ]
  },
  {
   "cell_type": "code",
   "execution_count": null,
   "metadata": {},
   "outputs": [],
   "source": [
    "#renaming images\n",
    "import os \n",
    "path=\"F:/datasets/Face Mask Detection/wearing face mask/\"\n",
    "for count, filename in enumerate(os.listdir(path)): \n",
    "        dst = str(count) + \".jpg\"\n",
    "        src = path+filename    \n",
    "        os.rename(src, dst) "
   ]
  },
  {
   "cell_type": "code",
   "execution_count": null,
   "metadata": {},
   "outputs": [],
   "source": []
  },
  {
   "cell_type": "code",
   "execution_count": null,
   "metadata": {},
   "outputs": [],
   "source": []
  }
 ],
 "metadata": {
  "kernelspec": {
   "display_name": "Python 3",
   "language": "python",
   "name": "python3"
  },
  "language_info": {
   "codemirror_mode": {
    "name": "ipython",
    "version": 3
   },
   "file_extension": ".py",
   "mimetype": "text/x-python",
   "name": "python",
   "nbconvert_exporter": "python",
   "pygments_lexer": "ipython3",
   "version": "3.7.6"
  }
 },
 "nbformat": 4,
 "nbformat_minor": 4
}
